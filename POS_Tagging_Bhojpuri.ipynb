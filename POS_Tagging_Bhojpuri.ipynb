{
  "nbformat": 4,
  "nbformat_minor": 0,
  "metadata": {
    "colab": {
      "provenance": [],
      "gpuType": "T4"
    },
    "kernelspec": {
      "name": "python3",
      "display_name": "Python 3"
    },
    "language_info": {
      "name": "python"
    },
    "widgets": {
      "application/vnd.jupyter.widget-state+json": {
        "ba6e8d4aa33e44319b8a3a5010f4e360": {
          "model_module": "@jupyter-widgets/controls",
          "model_name": "HBoxModel",
          "model_module_version": "1.5.0",
          "state": {
            "_dom_classes": [],
            "_model_module": "@jupyter-widgets/controls",
            "_model_module_version": "1.5.0",
            "_model_name": "HBoxModel",
            "_view_count": null,
            "_view_module": "@jupyter-widgets/controls",
            "_view_module_version": "1.5.0",
            "_view_name": "HBoxView",
            "box_style": "",
            "children": [
              "IPY_MODEL_e17c4828335c44db9655172354df0356",
              "IPY_MODEL_dc9a70662cd64727abbf74bc6e92fe2e",
              "IPY_MODEL_33bebf75852940859bba12f33c8968bb"
            ],
            "layout": "IPY_MODEL_a8e2560a4acc47b88646eb85d34a7ff3"
          }
        },
        "e17c4828335c44db9655172354df0356": {
          "model_module": "@jupyter-widgets/controls",
          "model_name": "HTMLModel",
          "model_module_version": "1.5.0",
          "state": {
            "_dom_classes": [],
            "_model_module": "@jupyter-widgets/controls",
            "_model_module_version": "1.5.0",
            "_model_name": "HTMLModel",
            "_view_count": null,
            "_view_module": "@jupyter-widgets/controls",
            "_view_module_version": "1.5.0",
            "_view_name": "HTMLView",
            "description": "",
            "description_tooltip": null,
            "layout": "IPY_MODEL_ca97605501874900888af8336a3e5391",
            "placeholder": "​",
            "style": "IPY_MODEL_fe64712fb2fa413ebe7421dc8c20e94f",
            "value": "Map: 100%"
          }
        },
        "dc9a70662cd64727abbf74bc6e92fe2e": {
          "model_module": "@jupyter-widgets/controls",
          "model_name": "FloatProgressModel",
          "model_module_version": "1.5.0",
          "state": {
            "_dom_classes": [],
            "_model_module": "@jupyter-widgets/controls",
            "_model_module_version": "1.5.0",
            "_model_name": "FloatProgressModel",
            "_view_count": null,
            "_view_module": "@jupyter-widgets/controls",
            "_view_module_version": "1.5.0",
            "_view_name": "ProgressView",
            "bar_style": "success",
            "description": "",
            "description_tooltip": null,
            "layout": "IPY_MODEL_e9222ad4224843679a1dd185f25c6356",
            "max": 3436,
            "min": 0,
            "orientation": "horizontal",
            "style": "IPY_MODEL_ddfb51f1fac74c7b8ac52175a191b669",
            "value": 3436
          }
        },
        "33bebf75852940859bba12f33c8968bb": {
          "model_module": "@jupyter-widgets/controls",
          "model_name": "HTMLModel",
          "model_module_version": "1.5.0",
          "state": {
            "_dom_classes": [],
            "_model_module": "@jupyter-widgets/controls",
            "_model_module_version": "1.5.0",
            "_model_name": "HTMLModel",
            "_view_count": null,
            "_view_module": "@jupyter-widgets/controls",
            "_view_module_version": "1.5.0",
            "_view_name": "HTMLView",
            "description": "",
            "description_tooltip": null,
            "layout": "IPY_MODEL_afc9590e95e841f9afa30988b6468f24",
            "placeholder": "​",
            "style": "IPY_MODEL_f1d623f6800b4736811fe2615dd0520e",
            "value": " 3436/3436 [00:00&lt;00:00, 8494.90 examples/s]"
          }
        },
        "a8e2560a4acc47b88646eb85d34a7ff3": {
          "model_module": "@jupyter-widgets/base",
          "model_name": "LayoutModel",
          "model_module_version": "1.2.0",
          "state": {
            "_model_module": "@jupyter-widgets/base",
            "_model_module_version": "1.2.0",
            "_model_name": "LayoutModel",
            "_view_count": null,
            "_view_module": "@jupyter-widgets/base",
            "_view_module_version": "1.2.0",
            "_view_name": "LayoutView",
            "align_content": null,
            "align_items": null,
            "align_self": null,
            "border": null,
            "bottom": null,
            "display": null,
            "flex": null,
            "flex_flow": null,
            "grid_area": null,
            "grid_auto_columns": null,
            "grid_auto_flow": null,
            "grid_auto_rows": null,
            "grid_column": null,
            "grid_gap": null,
            "grid_row": null,
            "grid_template_areas": null,
            "grid_template_columns": null,
            "grid_template_rows": null,
            "height": null,
            "justify_content": null,
            "justify_items": null,
            "left": null,
            "margin": null,
            "max_height": null,
            "max_width": null,
            "min_height": null,
            "min_width": null,
            "object_fit": null,
            "object_position": null,
            "order": null,
            "overflow": null,
            "overflow_x": null,
            "overflow_y": null,
            "padding": null,
            "right": null,
            "top": null,
            "visibility": null,
            "width": null
          }
        },
        "ca97605501874900888af8336a3e5391": {
          "model_module": "@jupyter-widgets/base",
          "model_name": "LayoutModel",
          "model_module_version": "1.2.0",
          "state": {
            "_model_module": "@jupyter-widgets/base",
            "_model_module_version": "1.2.0",
            "_model_name": "LayoutModel",
            "_view_count": null,
            "_view_module": "@jupyter-widgets/base",
            "_view_module_version": "1.2.0",
            "_view_name": "LayoutView",
            "align_content": null,
            "align_items": null,
            "align_self": null,
            "border": null,
            "bottom": null,
            "display": null,
            "flex": null,
            "flex_flow": null,
            "grid_area": null,
            "grid_auto_columns": null,
            "grid_auto_flow": null,
            "grid_auto_rows": null,
            "grid_column": null,
            "grid_gap": null,
            "grid_row": null,
            "grid_template_areas": null,
            "grid_template_columns": null,
            "grid_template_rows": null,
            "height": null,
            "justify_content": null,
            "justify_items": null,
            "left": null,
            "margin": null,
            "max_height": null,
            "max_width": null,
            "min_height": null,
            "min_width": null,
            "object_fit": null,
            "object_position": null,
            "order": null,
            "overflow": null,
            "overflow_x": null,
            "overflow_y": null,
            "padding": null,
            "right": null,
            "top": null,
            "visibility": null,
            "width": null
          }
        },
        "fe64712fb2fa413ebe7421dc8c20e94f": {
          "model_module": "@jupyter-widgets/controls",
          "model_name": "DescriptionStyleModel",
          "model_module_version": "1.5.0",
          "state": {
            "_model_module": "@jupyter-widgets/controls",
            "_model_module_version": "1.5.0",
            "_model_name": "DescriptionStyleModel",
            "_view_count": null,
            "_view_module": "@jupyter-widgets/base",
            "_view_module_version": "1.2.0",
            "_view_name": "StyleView",
            "description_width": ""
          }
        },
        "e9222ad4224843679a1dd185f25c6356": {
          "model_module": "@jupyter-widgets/base",
          "model_name": "LayoutModel",
          "model_module_version": "1.2.0",
          "state": {
            "_model_module": "@jupyter-widgets/base",
            "_model_module_version": "1.2.0",
            "_model_name": "LayoutModel",
            "_view_count": null,
            "_view_module": "@jupyter-widgets/base",
            "_view_module_version": "1.2.0",
            "_view_name": "LayoutView",
            "align_content": null,
            "align_items": null,
            "align_self": null,
            "border": null,
            "bottom": null,
            "display": null,
            "flex": null,
            "flex_flow": null,
            "grid_area": null,
            "grid_auto_columns": null,
            "grid_auto_flow": null,
            "grid_auto_rows": null,
            "grid_column": null,
            "grid_gap": null,
            "grid_row": null,
            "grid_template_areas": null,
            "grid_template_columns": null,
            "grid_template_rows": null,
            "height": null,
            "justify_content": null,
            "justify_items": null,
            "left": null,
            "margin": null,
            "max_height": null,
            "max_width": null,
            "min_height": null,
            "min_width": null,
            "object_fit": null,
            "object_position": null,
            "order": null,
            "overflow": null,
            "overflow_x": null,
            "overflow_y": null,
            "padding": null,
            "right": null,
            "top": null,
            "visibility": null,
            "width": null
          }
        },
        "ddfb51f1fac74c7b8ac52175a191b669": {
          "model_module": "@jupyter-widgets/controls",
          "model_name": "ProgressStyleModel",
          "model_module_version": "1.5.0",
          "state": {
            "_model_module": "@jupyter-widgets/controls",
            "_model_module_version": "1.5.0",
            "_model_name": "ProgressStyleModel",
            "_view_count": null,
            "_view_module": "@jupyter-widgets/base",
            "_view_module_version": "1.2.0",
            "_view_name": "StyleView",
            "bar_color": null,
            "description_width": ""
          }
        },
        "afc9590e95e841f9afa30988b6468f24": {
          "model_module": "@jupyter-widgets/base",
          "model_name": "LayoutModel",
          "model_module_version": "1.2.0",
          "state": {
            "_model_module": "@jupyter-widgets/base",
            "_model_module_version": "1.2.0",
            "_model_name": "LayoutModel",
            "_view_count": null,
            "_view_module": "@jupyter-widgets/base",
            "_view_module_version": "1.2.0",
            "_view_name": "LayoutView",
            "align_content": null,
            "align_items": null,
            "align_self": null,
            "border": null,
            "bottom": null,
            "display": null,
            "flex": null,
            "flex_flow": null,
            "grid_area": null,
            "grid_auto_columns": null,
            "grid_auto_flow": null,
            "grid_auto_rows": null,
            "grid_column": null,
            "grid_gap": null,
            "grid_row": null,
            "grid_template_areas": null,
            "grid_template_columns": null,
            "grid_template_rows": null,
            "height": null,
            "justify_content": null,
            "justify_items": null,
            "left": null,
            "margin": null,
            "max_height": null,
            "max_width": null,
            "min_height": null,
            "min_width": null,
            "object_fit": null,
            "object_position": null,
            "order": null,
            "overflow": null,
            "overflow_x": null,
            "overflow_y": null,
            "padding": null,
            "right": null,
            "top": null,
            "visibility": null,
            "width": null
          }
        },
        "f1d623f6800b4736811fe2615dd0520e": {
          "model_module": "@jupyter-widgets/controls",
          "model_name": "DescriptionStyleModel",
          "model_module_version": "1.5.0",
          "state": {
            "_model_module": "@jupyter-widgets/controls",
            "_model_module_version": "1.5.0",
            "_model_name": "DescriptionStyleModel",
            "_view_count": null,
            "_view_module": "@jupyter-widgets/base",
            "_view_module_version": "1.2.0",
            "_view_name": "StyleView",
            "description_width": ""
          }
        },
        "e6b531120e184b448a9216d24c180ccc": {
          "model_module": "@jupyter-widgets/controls",
          "model_name": "HBoxModel",
          "model_module_version": "1.5.0",
          "state": {
            "_dom_classes": [],
            "_model_module": "@jupyter-widgets/controls",
            "_model_module_version": "1.5.0",
            "_model_name": "HBoxModel",
            "_view_count": null,
            "_view_module": "@jupyter-widgets/controls",
            "_view_module_version": "1.5.0",
            "_view_name": "HBoxView",
            "box_style": "",
            "children": [
              "IPY_MODEL_d4835de0862946a282a75df0dfad8b32",
              "IPY_MODEL_19772ee15e9d4c00aa79427a0dd6dc86",
              "IPY_MODEL_64cf700d291d4277a8dc7e0ee04a5989"
            ],
            "layout": "IPY_MODEL_19b76b45908c4ff2b5884c6fbd5a364c"
          }
        },
        "d4835de0862946a282a75df0dfad8b32": {
          "model_module": "@jupyter-widgets/controls",
          "model_name": "HTMLModel",
          "model_module_version": "1.5.0",
          "state": {
            "_dom_classes": [],
            "_model_module": "@jupyter-widgets/controls",
            "_model_module_version": "1.5.0",
            "_model_name": "HTMLModel",
            "_view_count": null,
            "_view_module": "@jupyter-widgets/controls",
            "_view_module_version": "1.5.0",
            "_view_name": "HTMLView",
            "description": "",
            "description_tooltip": null,
            "layout": "IPY_MODEL_321c111536dd46b58c8bd1d2c7e55639",
            "placeholder": "​",
            "style": "IPY_MODEL_df4826aa018245768999dd40e8c53586",
            "value": "Map: 100%"
          }
        },
        "19772ee15e9d4c00aa79427a0dd6dc86": {
          "model_module": "@jupyter-widgets/controls",
          "model_name": "FloatProgressModel",
          "model_module_version": "1.5.0",
          "state": {
            "_dom_classes": [],
            "_model_module": "@jupyter-widgets/controls",
            "_model_module_version": "1.5.0",
            "_model_name": "FloatProgressModel",
            "_view_count": null,
            "_view_module": "@jupyter-widgets/controls",
            "_view_module_version": "1.5.0",
            "_view_name": "ProgressView",
            "bar_style": "success",
            "description": "",
            "description_tooltip": null,
            "layout": "IPY_MODEL_0c55e63969524610ac19c7cf39001df0",
            "max": 430,
            "min": 0,
            "orientation": "horizontal",
            "style": "IPY_MODEL_3e56574faf684be7a50cfc62135d250e",
            "value": 430
          }
        },
        "64cf700d291d4277a8dc7e0ee04a5989": {
          "model_module": "@jupyter-widgets/controls",
          "model_name": "HTMLModel",
          "model_module_version": "1.5.0",
          "state": {
            "_dom_classes": [],
            "_model_module": "@jupyter-widgets/controls",
            "_model_module_version": "1.5.0",
            "_model_name": "HTMLModel",
            "_view_count": null,
            "_view_module": "@jupyter-widgets/controls",
            "_view_module_version": "1.5.0",
            "_view_name": "HTMLView",
            "description": "",
            "description_tooltip": null,
            "layout": "IPY_MODEL_3b073b31485d463b9a13f36bfa46629f",
            "placeholder": "​",
            "style": "IPY_MODEL_ea46bc670a2b4a89b3e80227f2abdb1f",
            "value": " 430/430 [00:00&lt;00:00, 4859.87 examples/s]"
          }
        },
        "19b76b45908c4ff2b5884c6fbd5a364c": {
          "model_module": "@jupyter-widgets/base",
          "model_name": "LayoutModel",
          "model_module_version": "1.2.0",
          "state": {
            "_model_module": "@jupyter-widgets/base",
            "_model_module_version": "1.2.0",
            "_model_name": "LayoutModel",
            "_view_count": null,
            "_view_module": "@jupyter-widgets/base",
            "_view_module_version": "1.2.0",
            "_view_name": "LayoutView",
            "align_content": null,
            "align_items": null,
            "align_self": null,
            "border": null,
            "bottom": null,
            "display": null,
            "flex": null,
            "flex_flow": null,
            "grid_area": null,
            "grid_auto_columns": null,
            "grid_auto_flow": null,
            "grid_auto_rows": null,
            "grid_column": null,
            "grid_gap": null,
            "grid_row": null,
            "grid_template_areas": null,
            "grid_template_columns": null,
            "grid_template_rows": null,
            "height": null,
            "justify_content": null,
            "justify_items": null,
            "left": null,
            "margin": null,
            "max_height": null,
            "max_width": null,
            "min_height": null,
            "min_width": null,
            "object_fit": null,
            "object_position": null,
            "order": null,
            "overflow": null,
            "overflow_x": null,
            "overflow_y": null,
            "padding": null,
            "right": null,
            "top": null,
            "visibility": null,
            "width": null
          }
        },
        "321c111536dd46b58c8bd1d2c7e55639": {
          "model_module": "@jupyter-widgets/base",
          "model_name": "LayoutModel",
          "model_module_version": "1.2.0",
          "state": {
            "_model_module": "@jupyter-widgets/base",
            "_model_module_version": "1.2.0",
            "_model_name": "LayoutModel",
            "_view_count": null,
            "_view_module": "@jupyter-widgets/base",
            "_view_module_version": "1.2.0",
            "_view_name": "LayoutView",
            "align_content": null,
            "align_items": null,
            "align_self": null,
            "border": null,
            "bottom": null,
            "display": null,
            "flex": null,
            "flex_flow": null,
            "grid_area": null,
            "grid_auto_columns": null,
            "grid_auto_flow": null,
            "grid_auto_rows": null,
            "grid_column": null,
            "grid_gap": null,
            "grid_row": null,
            "grid_template_areas": null,
            "grid_template_columns": null,
            "grid_template_rows": null,
            "height": null,
            "justify_content": null,
            "justify_items": null,
            "left": null,
            "margin": null,
            "max_height": null,
            "max_width": null,
            "min_height": null,
            "min_width": null,
            "object_fit": null,
            "object_position": null,
            "order": null,
            "overflow": null,
            "overflow_x": null,
            "overflow_y": null,
            "padding": null,
            "right": null,
            "top": null,
            "visibility": null,
            "width": null
          }
        },
        "df4826aa018245768999dd40e8c53586": {
          "model_module": "@jupyter-widgets/controls",
          "model_name": "DescriptionStyleModel",
          "model_module_version": "1.5.0",
          "state": {
            "_model_module": "@jupyter-widgets/controls",
            "_model_module_version": "1.5.0",
            "_model_name": "DescriptionStyleModel",
            "_view_count": null,
            "_view_module": "@jupyter-widgets/base",
            "_view_module_version": "1.2.0",
            "_view_name": "StyleView",
            "description_width": ""
          }
        },
        "0c55e63969524610ac19c7cf39001df0": {
          "model_module": "@jupyter-widgets/base",
          "model_name": "LayoutModel",
          "model_module_version": "1.2.0",
          "state": {
            "_model_module": "@jupyter-widgets/base",
            "_model_module_version": "1.2.0",
            "_model_name": "LayoutModel",
            "_view_count": null,
            "_view_module": "@jupyter-widgets/base",
            "_view_module_version": "1.2.0",
            "_view_name": "LayoutView",
            "align_content": null,
            "align_items": null,
            "align_self": null,
            "border": null,
            "bottom": null,
            "display": null,
            "flex": null,
            "flex_flow": null,
            "grid_area": null,
            "grid_auto_columns": null,
            "grid_auto_flow": null,
            "grid_auto_rows": null,
            "grid_column": null,
            "grid_gap": null,
            "grid_row": null,
            "grid_template_areas": null,
            "grid_template_columns": null,
            "grid_template_rows": null,
            "height": null,
            "justify_content": null,
            "justify_items": null,
            "left": null,
            "margin": null,
            "max_height": null,
            "max_width": null,
            "min_height": null,
            "min_width": null,
            "object_fit": null,
            "object_position": null,
            "order": null,
            "overflow": null,
            "overflow_x": null,
            "overflow_y": null,
            "padding": null,
            "right": null,
            "top": null,
            "visibility": null,
            "width": null
          }
        },
        "3e56574faf684be7a50cfc62135d250e": {
          "model_module": "@jupyter-widgets/controls",
          "model_name": "ProgressStyleModel",
          "model_module_version": "1.5.0",
          "state": {
            "_model_module": "@jupyter-widgets/controls",
            "_model_module_version": "1.5.0",
            "_model_name": "ProgressStyleModel",
            "_view_count": null,
            "_view_module": "@jupyter-widgets/base",
            "_view_module_version": "1.2.0",
            "_view_name": "StyleView",
            "bar_color": null,
            "description_width": ""
          }
        },
        "3b073b31485d463b9a13f36bfa46629f": {
          "model_module": "@jupyter-widgets/base",
          "model_name": "LayoutModel",
          "model_module_version": "1.2.0",
          "state": {
            "_model_module": "@jupyter-widgets/base",
            "_model_module_version": "1.2.0",
            "_model_name": "LayoutModel",
            "_view_count": null,
            "_view_module": "@jupyter-widgets/base",
            "_view_module_version": "1.2.0",
            "_view_name": "LayoutView",
            "align_content": null,
            "align_items": null,
            "align_self": null,
            "border": null,
            "bottom": null,
            "display": null,
            "flex": null,
            "flex_flow": null,
            "grid_area": null,
            "grid_auto_columns": null,
            "grid_auto_flow": null,
            "grid_auto_rows": null,
            "grid_column": null,
            "grid_gap": null,
            "grid_row": null,
            "grid_template_areas": null,
            "grid_template_columns": null,
            "grid_template_rows": null,
            "height": null,
            "justify_content": null,
            "justify_items": null,
            "left": null,
            "margin": null,
            "max_height": null,
            "max_width": null,
            "min_height": null,
            "min_width": null,
            "object_fit": null,
            "object_position": null,
            "order": null,
            "overflow": null,
            "overflow_x": null,
            "overflow_y": null,
            "padding": null,
            "right": null,
            "top": null,
            "visibility": null,
            "width": null
          }
        },
        "ea46bc670a2b4a89b3e80227f2abdb1f": {
          "model_module": "@jupyter-widgets/controls",
          "model_name": "DescriptionStyleModel",
          "model_module_version": "1.5.0",
          "state": {
            "_model_module": "@jupyter-widgets/controls",
            "_model_module_version": "1.5.0",
            "_model_name": "DescriptionStyleModel",
            "_view_count": null,
            "_view_module": "@jupyter-widgets/base",
            "_view_module_version": "1.2.0",
            "_view_name": "StyleView",
            "description_width": ""
          }
        },
        "3a80c2f594b3416590203d38f1f0d6ec": {
          "model_module": "@jupyter-widgets/controls",
          "model_name": "HBoxModel",
          "model_module_version": "1.5.0",
          "state": {
            "_dom_classes": [],
            "_model_module": "@jupyter-widgets/controls",
            "_model_module_version": "1.5.0",
            "_model_name": "HBoxModel",
            "_view_count": null,
            "_view_module": "@jupyter-widgets/controls",
            "_view_module_version": "1.5.0",
            "_view_name": "HBoxView",
            "box_style": "",
            "children": [
              "IPY_MODEL_e1ee7620b5b74dfe9efa2309491a177d",
              "IPY_MODEL_8b5bd173c5454664aa8f55df55210c7e",
              "IPY_MODEL_632ecbf44d8a4313a6bef550e0e22129"
            ],
            "layout": "IPY_MODEL_0024a580285048e4b71534168ca92339"
          }
        },
        "e1ee7620b5b74dfe9efa2309491a177d": {
          "model_module": "@jupyter-widgets/controls",
          "model_name": "HTMLModel",
          "model_module_version": "1.5.0",
          "state": {
            "_dom_classes": [],
            "_model_module": "@jupyter-widgets/controls",
            "_model_module_version": "1.5.0",
            "_model_name": "HTMLModel",
            "_view_count": null,
            "_view_module": "@jupyter-widgets/controls",
            "_view_module_version": "1.5.0",
            "_view_name": "HTMLView",
            "description": "",
            "description_tooltip": null,
            "layout": "IPY_MODEL_dcc398e440054a1ca1149233a5efeadf",
            "placeholder": "​",
            "style": "IPY_MODEL_8736679941e548e2ace1bfe2d062512b",
            "value": "Map: 100%"
          }
        },
        "8b5bd173c5454664aa8f55df55210c7e": {
          "model_module": "@jupyter-widgets/controls",
          "model_name": "FloatProgressModel",
          "model_module_version": "1.5.0",
          "state": {
            "_dom_classes": [],
            "_model_module": "@jupyter-widgets/controls",
            "_model_module_version": "1.5.0",
            "_model_name": "FloatProgressModel",
            "_view_count": null,
            "_view_module": "@jupyter-widgets/controls",
            "_view_module_version": "1.5.0",
            "_view_name": "ProgressView",
            "bar_style": "success",
            "description": "",
            "description_tooltip": null,
            "layout": "IPY_MODEL_f6f29dc0b4da41c68024bee9d6e33e10",
            "max": 429,
            "min": 0,
            "orientation": "horizontal",
            "style": "IPY_MODEL_5f16078eb1564c6bad4b540931753c4b",
            "value": 429
          }
        },
        "632ecbf44d8a4313a6bef550e0e22129": {
          "model_module": "@jupyter-widgets/controls",
          "model_name": "HTMLModel",
          "model_module_version": "1.5.0",
          "state": {
            "_dom_classes": [],
            "_model_module": "@jupyter-widgets/controls",
            "_model_module_version": "1.5.0",
            "_model_name": "HTMLModel",
            "_view_count": null,
            "_view_module": "@jupyter-widgets/controls",
            "_view_module_version": "1.5.0",
            "_view_name": "HTMLView",
            "description": "",
            "description_tooltip": null,
            "layout": "IPY_MODEL_c7db60ee83a841fea417aab105012e1d",
            "placeholder": "​",
            "style": "IPY_MODEL_860443b0cc3d415c918d533f476e332b",
            "value": " 429/429 [00:00&lt;00:00, 4908.87 examples/s]"
          }
        },
        "0024a580285048e4b71534168ca92339": {
          "model_module": "@jupyter-widgets/base",
          "model_name": "LayoutModel",
          "model_module_version": "1.2.0",
          "state": {
            "_model_module": "@jupyter-widgets/base",
            "_model_module_version": "1.2.0",
            "_model_name": "LayoutModel",
            "_view_count": null,
            "_view_module": "@jupyter-widgets/base",
            "_view_module_version": "1.2.0",
            "_view_name": "LayoutView",
            "align_content": null,
            "align_items": null,
            "align_self": null,
            "border": null,
            "bottom": null,
            "display": null,
            "flex": null,
            "flex_flow": null,
            "grid_area": null,
            "grid_auto_columns": null,
            "grid_auto_flow": null,
            "grid_auto_rows": null,
            "grid_column": null,
            "grid_gap": null,
            "grid_row": null,
            "grid_template_areas": null,
            "grid_template_columns": null,
            "grid_template_rows": null,
            "height": null,
            "justify_content": null,
            "justify_items": null,
            "left": null,
            "margin": null,
            "max_height": null,
            "max_width": null,
            "min_height": null,
            "min_width": null,
            "object_fit": null,
            "object_position": null,
            "order": null,
            "overflow": null,
            "overflow_x": null,
            "overflow_y": null,
            "padding": null,
            "right": null,
            "top": null,
            "visibility": null,
            "width": null
          }
        },
        "dcc398e440054a1ca1149233a5efeadf": {
          "model_module": "@jupyter-widgets/base",
          "model_name": "LayoutModel",
          "model_module_version": "1.2.0",
          "state": {
            "_model_module": "@jupyter-widgets/base",
            "_model_module_version": "1.2.0",
            "_model_name": "LayoutModel",
            "_view_count": null,
            "_view_module": "@jupyter-widgets/base",
            "_view_module_version": "1.2.0",
            "_view_name": "LayoutView",
            "align_content": null,
            "align_items": null,
            "align_self": null,
            "border": null,
            "bottom": null,
            "display": null,
            "flex": null,
            "flex_flow": null,
            "grid_area": null,
            "grid_auto_columns": null,
            "grid_auto_flow": null,
            "grid_auto_rows": null,
            "grid_column": null,
            "grid_gap": null,
            "grid_row": null,
            "grid_template_areas": null,
            "grid_template_columns": null,
            "grid_template_rows": null,
            "height": null,
            "justify_content": null,
            "justify_items": null,
            "left": null,
            "margin": null,
            "max_height": null,
            "max_width": null,
            "min_height": null,
            "min_width": null,
            "object_fit": null,
            "object_position": null,
            "order": null,
            "overflow": null,
            "overflow_x": null,
            "overflow_y": null,
            "padding": null,
            "right": null,
            "top": null,
            "visibility": null,
            "width": null
          }
        },
        "8736679941e548e2ace1bfe2d062512b": {
          "model_module": "@jupyter-widgets/controls",
          "model_name": "DescriptionStyleModel",
          "model_module_version": "1.5.0",
          "state": {
            "_model_module": "@jupyter-widgets/controls",
            "_model_module_version": "1.5.0",
            "_model_name": "DescriptionStyleModel",
            "_view_count": null,
            "_view_module": "@jupyter-widgets/base",
            "_view_module_version": "1.2.0",
            "_view_name": "StyleView",
            "description_width": ""
          }
        },
        "f6f29dc0b4da41c68024bee9d6e33e10": {
          "model_module": "@jupyter-widgets/base",
          "model_name": "LayoutModel",
          "model_module_version": "1.2.0",
          "state": {
            "_model_module": "@jupyter-widgets/base",
            "_model_module_version": "1.2.0",
            "_model_name": "LayoutModel",
            "_view_count": null,
            "_view_module": "@jupyter-widgets/base",
            "_view_module_version": "1.2.0",
            "_view_name": "LayoutView",
            "align_content": null,
            "align_items": null,
            "align_self": null,
            "border": null,
            "bottom": null,
            "display": null,
            "flex": null,
            "flex_flow": null,
            "grid_area": null,
            "grid_auto_columns": null,
            "grid_auto_flow": null,
            "grid_auto_rows": null,
            "grid_column": null,
            "grid_gap": null,
            "grid_row": null,
            "grid_template_areas": null,
            "grid_template_columns": null,
            "grid_template_rows": null,
            "height": null,
            "justify_content": null,
            "justify_items": null,
            "left": null,
            "margin": null,
            "max_height": null,
            "max_width": null,
            "min_height": null,
            "min_width": null,
            "object_fit": null,
            "object_position": null,
            "order": null,
            "overflow": null,
            "overflow_x": null,
            "overflow_y": null,
            "padding": null,
            "right": null,
            "top": null,
            "visibility": null,
            "width": null
          }
        },
        "5f16078eb1564c6bad4b540931753c4b": {
          "model_module": "@jupyter-widgets/controls",
          "model_name": "ProgressStyleModel",
          "model_module_version": "1.5.0",
          "state": {
            "_model_module": "@jupyter-widgets/controls",
            "_model_module_version": "1.5.0",
            "_model_name": "ProgressStyleModel",
            "_view_count": null,
            "_view_module": "@jupyter-widgets/base",
            "_view_module_version": "1.2.0",
            "_view_name": "StyleView",
            "bar_color": null,
            "description_width": ""
          }
        },
        "c7db60ee83a841fea417aab105012e1d": {
          "model_module": "@jupyter-widgets/base",
          "model_name": "LayoutModel",
          "model_module_version": "1.2.0",
          "state": {
            "_model_module": "@jupyter-widgets/base",
            "_model_module_version": "1.2.0",
            "_model_name": "LayoutModel",
            "_view_count": null,
            "_view_module": "@jupyter-widgets/base",
            "_view_module_version": "1.2.0",
            "_view_name": "LayoutView",
            "align_content": null,
            "align_items": null,
            "align_self": null,
            "border": null,
            "bottom": null,
            "display": null,
            "flex": null,
            "flex_flow": null,
            "grid_area": null,
            "grid_auto_columns": null,
            "grid_auto_flow": null,
            "grid_auto_rows": null,
            "grid_column": null,
            "grid_gap": null,
            "grid_row": null,
            "grid_template_areas": null,
            "grid_template_columns": null,
            "grid_template_rows": null,
            "height": null,
            "justify_content": null,
            "justify_items": null,
            "left": null,
            "margin": null,
            "max_height": null,
            "max_width": null,
            "min_height": null,
            "min_width": null,
            "object_fit": null,
            "object_position": null,
            "order": null,
            "overflow": null,
            "overflow_x": null,
            "overflow_y": null,
            "padding": null,
            "right": null,
            "top": null,
            "visibility": null,
            "width": null
          }
        },
        "860443b0cc3d415c918d533f476e332b": {
          "model_module": "@jupyter-widgets/controls",
          "model_name": "DescriptionStyleModel",
          "model_module_version": "1.5.0",
          "state": {
            "_model_module": "@jupyter-widgets/controls",
            "_model_module_version": "1.5.0",
            "_model_name": "DescriptionStyleModel",
            "_view_count": null,
            "_view_module": "@jupyter-widgets/base",
            "_view_module_version": "1.2.0",
            "_view_name": "StyleView",
            "description_width": ""
          }
        },
        "c3ee3db74a084e71bd6215083bfa9300": {
          "model_module": "@jupyter-widgets/controls",
          "model_name": "HBoxModel",
          "model_module_version": "1.5.0",
          "state": {
            "_dom_classes": [],
            "_model_module": "@jupyter-widgets/controls",
            "_model_module_version": "1.5.0",
            "_model_name": "HBoxModel",
            "_view_count": null,
            "_view_module": "@jupyter-widgets/controls",
            "_view_module_version": "1.5.0",
            "_view_name": "HBoxView",
            "box_style": "",
            "children": [
              "IPY_MODEL_a683992535954143b07c4de7f348f5db",
              "IPY_MODEL_b5a8c4cfe36e4f5db2d18465b0e18117",
              "IPY_MODEL_6d54865548844d329f2c91db46ed0feb"
            ],
            "layout": "IPY_MODEL_7fd3c8228a894c289ce46a872de2795f"
          }
        },
        "a683992535954143b07c4de7f348f5db": {
          "model_module": "@jupyter-widgets/controls",
          "model_name": "HTMLModel",
          "model_module_version": "1.5.0",
          "state": {
            "_dom_classes": [],
            "_model_module": "@jupyter-widgets/controls",
            "_model_module_version": "1.5.0",
            "_model_name": "HTMLModel",
            "_view_count": null,
            "_view_module": "@jupyter-widgets/controls",
            "_view_module_version": "1.5.0",
            "_view_name": "HTMLView",
            "description": "",
            "description_tooltip": null,
            "layout": "IPY_MODEL_2f173a88353642429425496a49d7465c",
            "placeholder": "​",
            "style": "IPY_MODEL_b27b38da78e740cfa60d697efe79d6c4",
            "value": "100%"
          }
        },
        "b5a8c4cfe36e4f5db2d18465b0e18117": {
          "model_module": "@jupyter-widgets/controls",
          "model_name": "FloatProgressModel",
          "model_module_version": "1.5.0",
          "state": {
            "_dom_classes": [],
            "_model_module": "@jupyter-widgets/controls",
            "_model_module_version": "1.5.0",
            "_model_name": "FloatProgressModel",
            "_view_count": null,
            "_view_module": "@jupyter-widgets/controls",
            "_view_module_version": "1.5.0",
            "_view_name": "ProgressView",
            "bar_style": "",
            "description": "",
            "description_tooltip": null,
            "layout": "IPY_MODEL_d6977ed3ad914f24b59513f0a7bea5a0",
            "max": 1290,
            "min": 0,
            "orientation": "horizontal",
            "style": "IPY_MODEL_4cbcf79dd33d4017aa78425ca2f07018",
            "value": 1290
          }
        },
        "6d54865548844d329f2c91db46ed0feb": {
          "model_module": "@jupyter-widgets/controls",
          "model_name": "HTMLModel",
          "model_module_version": "1.5.0",
          "state": {
            "_dom_classes": [],
            "_model_module": "@jupyter-widgets/controls",
            "_model_module_version": "1.5.0",
            "_model_name": "HTMLModel",
            "_view_count": null,
            "_view_module": "@jupyter-widgets/controls",
            "_view_module_version": "1.5.0",
            "_view_name": "HTMLView",
            "description": "",
            "description_tooltip": null,
            "layout": "IPY_MODEL_da9abcd4f8824d3bb485f7e06078c541",
            "placeholder": "​",
            "style": "IPY_MODEL_56a9a359fe3b4ae897c1e2b0991cdafb",
            "value": " 1290/1290 [03:57&lt;00:00,  5.34it/s]"
          }
        },
        "7fd3c8228a894c289ce46a872de2795f": {
          "model_module": "@jupyter-widgets/base",
          "model_name": "LayoutModel",
          "model_module_version": "1.2.0",
          "state": {
            "_model_module": "@jupyter-widgets/base",
            "_model_module_version": "1.2.0",
            "_model_name": "LayoutModel",
            "_view_count": null,
            "_view_module": "@jupyter-widgets/base",
            "_view_module_version": "1.2.0",
            "_view_name": "LayoutView",
            "align_content": null,
            "align_items": null,
            "align_self": null,
            "border": null,
            "bottom": null,
            "display": null,
            "flex": null,
            "flex_flow": null,
            "grid_area": null,
            "grid_auto_columns": null,
            "grid_auto_flow": null,
            "grid_auto_rows": null,
            "grid_column": null,
            "grid_gap": null,
            "grid_row": null,
            "grid_template_areas": null,
            "grid_template_columns": null,
            "grid_template_rows": null,
            "height": null,
            "justify_content": null,
            "justify_items": null,
            "left": null,
            "margin": null,
            "max_height": null,
            "max_width": null,
            "min_height": null,
            "min_width": null,
            "object_fit": null,
            "object_position": null,
            "order": null,
            "overflow": null,
            "overflow_x": null,
            "overflow_y": null,
            "padding": null,
            "right": null,
            "top": null,
            "visibility": null,
            "width": null
          }
        },
        "2f173a88353642429425496a49d7465c": {
          "model_module": "@jupyter-widgets/base",
          "model_name": "LayoutModel",
          "model_module_version": "1.2.0",
          "state": {
            "_model_module": "@jupyter-widgets/base",
            "_model_module_version": "1.2.0",
            "_model_name": "LayoutModel",
            "_view_count": null,
            "_view_module": "@jupyter-widgets/base",
            "_view_module_version": "1.2.0",
            "_view_name": "LayoutView",
            "align_content": null,
            "align_items": null,
            "align_self": null,
            "border": null,
            "bottom": null,
            "display": null,
            "flex": null,
            "flex_flow": null,
            "grid_area": null,
            "grid_auto_columns": null,
            "grid_auto_flow": null,
            "grid_auto_rows": null,
            "grid_column": null,
            "grid_gap": null,
            "grid_row": null,
            "grid_template_areas": null,
            "grid_template_columns": null,
            "grid_template_rows": null,
            "height": null,
            "justify_content": null,
            "justify_items": null,
            "left": null,
            "margin": null,
            "max_height": null,
            "max_width": null,
            "min_height": null,
            "min_width": null,
            "object_fit": null,
            "object_position": null,
            "order": null,
            "overflow": null,
            "overflow_x": null,
            "overflow_y": null,
            "padding": null,
            "right": null,
            "top": null,
            "visibility": null,
            "width": null
          }
        },
        "b27b38da78e740cfa60d697efe79d6c4": {
          "model_module": "@jupyter-widgets/controls",
          "model_name": "DescriptionStyleModel",
          "model_module_version": "1.5.0",
          "state": {
            "_model_module": "@jupyter-widgets/controls",
            "_model_module_version": "1.5.0",
            "_model_name": "DescriptionStyleModel",
            "_view_count": null,
            "_view_module": "@jupyter-widgets/base",
            "_view_module_version": "1.2.0",
            "_view_name": "StyleView",
            "description_width": ""
          }
        },
        "d6977ed3ad914f24b59513f0a7bea5a0": {
          "model_module": "@jupyter-widgets/base",
          "model_name": "LayoutModel",
          "model_module_version": "1.2.0",
          "state": {
            "_model_module": "@jupyter-widgets/base",
            "_model_module_version": "1.2.0",
            "_model_name": "LayoutModel",
            "_view_count": null,
            "_view_module": "@jupyter-widgets/base",
            "_view_module_version": "1.2.0",
            "_view_name": "LayoutView",
            "align_content": null,
            "align_items": null,
            "align_self": null,
            "border": null,
            "bottom": null,
            "display": null,
            "flex": null,
            "flex_flow": null,
            "grid_area": null,
            "grid_auto_columns": null,
            "grid_auto_flow": null,
            "grid_auto_rows": null,
            "grid_column": null,
            "grid_gap": null,
            "grid_row": null,
            "grid_template_areas": null,
            "grid_template_columns": null,
            "grid_template_rows": null,
            "height": null,
            "justify_content": null,
            "justify_items": null,
            "left": null,
            "margin": null,
            "max_height": null,
            "max_width": null,
            "min_height": null,
            "min_width": null,
            "object_fit": null,
            "object_position": null,
            "order": null,
            "overflow": null,
            "overflow_x": null,
            "overflow_y": null,
            "padding": null,
            "right": null,
            "top": null,
            "visibility": null,
            "width": null
          }
        },
        "4cbcf79dd33d4017aa78425ca2f07018": {
          "model_module": "@jupyter-widgets/controls",
          "model_name": "ProgressStyleModel",
          "model_module_version": "1.5.0",
          "state": {
            "_model_module": "@jupyter-widgets/controls",
            "_model_module_version": "1.5.0",
            "_model_name": "ProgressStyleModel",
            "_view_count": null,
            "_view_module": "@jupyter-widgets/base",
            "_view_module_version": "1.2.0",
            "_view_name": "StyleView",
            "bar_color": null,
            "description_width": ""
          }
        },
        "da9abcd4f8824d3bb485f7e06078c541": {
          "model_module": "@jupyter-widgets/base",
          "model_name": "LayoutModel",
          "model_module_version": "1.2.0",
          "state": {
            "_model_module": "@jupyter-widgets/base",
            "_model_module_version": "1.2.0",
            "_model_name": "LayoutModel",
            "_view_count": null,
            "_view_module": "@jupyter-widgets/base",
            "_view_module_version": "1.2.0",
            "_view_name": "LayoutView",
            "align_content": null,
            "align_items": null,
            "align_self": null,
            "border": null,
            "bottom": null,
            "display": null,
            "flex": null,
            "flex_flow": null,
            "grid_area": null,
            "grid_auto_columns": null,
            "grid_auto_flow": null,
            "grid_auto_rows": null,
            "grid_column": null,
            "grid_gap": null,
            "grid_row": null,
            "grid_template_areas": null,
            "grid_template_columns": null,
            "grid_template_rows": null,
            "height": null,
            "justify_content": null,
            "justify_items": null,
            "left": null,
            "margin": null,
            "max_height": null,
            "max_width": null,
            "min_height": null,
            "min_width": null,
            "object_fit": null,
            "object_position": null,
            "order": null,
            "overflow": null,
            "overflow_x": null,
            "overflow_y": null,
            "padding": null,
            "right": null,
            "top": null,
            "visibility": null,
            "width": null
          }
        },
        "56a9a359fe3b4ae897c1e2b0991cdafb": {
          "model_module": "@jupyter-widgets/controls",
          "model_name": "DescriptionStyleModel",
          "model_module_version": "1.5.0",
          "state": {
            "_model_module": "@jupyter-widgets/controls",
            "_model_module_version": "1.5.0",
            "_model_name": "DescriptionStyleModel",
            "_view_count": null,
            "_view_module": "@jupyter-widgets/base",
            "_view_module_version": "1.2.0",
            "_view_name": "StyleView",
            "description_width": ""
          }
        }
      }
    },
    "accelerator": "GPU"
  },
  "cells": [
    {
      "cell_type": "markdown",
      "source": [
        "<h1><b>POS Tagging</b></h1>\n",
        "The notebook is divided into three section -  <i>Data Preparation</i>, <i>Model Definition</i> and the actual <i>Training and Evaluation</i>.\n",
        "Following these three sections is one more sectionb - <i>Using Langauge Embeddings</i> - where words are converted to word embeddings and concatenated with language vectors."
      ],
      "metadata": {
        "id": "ew9if5VygO6l"
      }
    },
    {
      "cell_type": "code",
      "execution_count": 2,
      "metadata": {
        "colab": {
          "base_uri": "https://localhost:8080/"
        },
        "id": "IL9zkd8KxJpv",
        "outputId": "c4f3117f-1913-44b8-cfbc-a2065ec58eb7"
      },
      "outputs": [
        {
          "output_type": "stream",
          "name": "stdout",
          "text": [
            "\u001b[2K     \u001b[90m━━━━━━━━━━━━━━━━━━━━━━━━━━━━━━━━━━━━━━━━\u001b[0m \u001b[32m521.2/521.2 kB\u001b[0m \u001b[31m4.8 MB/s\u001b[0m eta \u001b[36m0:00:00\u001b[0m\n",
            "\u001b[2K     \u001b[90m━━━━━━━━━━━━━━━━━━━━━━━━━━━━━━━━━━━━━━━━\u001b[0m \u001b[32m115.3/115.3 kB\u001b[0m \u001b[31m15.2 MB/s\u001b[0m eta \u001b[36m0:00:00\u001b[0m\n",
            "\u001b[2K     \u001b[90m━━━━━━━━━━━━━━━━━━━━━━━━━━━━━━━━━━━━━━━━\u001b[0m \u001b[32m134.8/134.8 kB\u001b[0m \u001b[31m18.0 MB/s\u001b[0m eta \u001b[36m0:00:00\u001b[0m\n",
            "\u001b[?25h"
          ]
        }
      ],
      "source": [
        "!pip install -q conllu\n",
        "!pip install -q datasets\n",
        "!pip install -q transformers"
      ]
    },
    {
      "cell_type": "markdown",
      "source": [
        "<h1>Data Preparation</h1>"
      ],
      "metadata": {
        "id": "v7aHdlMJx59f"
      }
    },
    {
      "cell_type": "markdown",
      "source": [
        "<h2>Data Fetching, Cleaning and Storing</h2>\n",
        "In this section, we fetch the data from the URL: 'https://raw.githubusercontent.com/singhakr/Bhojpuri-Magahi-and-Maithili-Linguistic-Resources/main/bhojpuri/pos-tagged/bhojpuri-pos-tagged-ver-1.3.txt'. The data is cleaned and converted to required format and the output is stored in a file \"output.txt\". You can download the obtained file in your local storage and use it for further procssing, thus eliminating the need of re-reunning this section again."
      ],
      "metadata": {
        "id": "wmPBA9RzzPmj"
      }
    },
    {
      "cell_type": "code",
      "source": [
        "import urllib.request"
      ],
      "metadata": {
        "id": "0snmmNz1x-hL"
      },
      "execution_count": 3,
      "outputs": []
    },
    {
      "cell_type": "code",
      "source": [
        "dataurl = 'https://raw.githubusercontent.com/singhakr/Bhojpuri-Magahi-and-Maithili-Linguistic-Resources/main/bhojpuri/pos-tagged/bhojpuri-pos-tagged-ver-1.3.txt'\n",
        "filepath = 'bhojpuri-pos-tagged-ver-1.3.txt'\n",
        "urllib.request.urlretrieve(dataurl, filepath)"
      ],
      "metadata": {
        "colab": {
          "base_uri": "https://localhost:8080/"
        },
        "id": "n8mcmOE-yJ6k",
        "outputId": "2c92b2f4-6831-40bc-c248-2fd9e277f982"
      },
      "execution_count": 4,
      "outputs": [
        {
          "output_type": "execute_result",
          "data": {
            "text/plain": [
              "('bhojpuri-pos-tagged-ver-1.3.txt',\n",
              " <http.client.HTTPMessage at 0x7ca18cb1eaa0>)"
            ]
          },
          "metadata": {},
          "execution_count": 4
        }
      ]
    },
    {
      "cell_type": "code",
      "source": [
        "with open(filepath, mode=\"r\", encoding=\"utf-8\") as data:\n",
        "    annotations = data.read()"
      ],
      "metadata": {
        "id": "Axpu46YayR1d"
      },
      "execution_count": 5,
      "outputs": []
    },
    {
      "cell_type": "code",
      "source": [
        "i=0\n",
        "sents=[]\n",
        "while(i<len(annotations)):\n",
        "  sent = \"\"\n",
        "  while i<len(annotations):\n",
        "    if annotations[i]!='\\n':\n",
        "      sent = sent + annotations[i]\n",
        "      i+=1\n",
        "    else:\n",
        "      i+=1\n",
        "      break\n",
        "  sents.append(sent)\n",
        "\n",
        "#############\n",
        "lines = []\n",
        "for sent in sents:\n",
        "  if(len(sent)>0 and sent[0]=='<'):\n",
        "    continue\n",
        "  elif \"document\" in sent:\n",
        "    continue\n",
        "  else:\n",
        "    lines.append(sent)\n",
        "\n",
        "#############\n",
        "all = \"\"\n",
        "for x in lines:\n",
        "  all = all + '\\n' + x"
      ],
      "metadata": {
        "id": "b_hjlGtRyhv4"
      },
      "execution_count": 6,
      "outputs": []
    },
    {
      "cell_type": "code",
      "source": [
        "if \"<fs af=',,,,,,,'>\" in all:\n",
        "    all = all.replace(\"<fs af=',,,,,,,'>\", '')\n",
        "if \"\\t))\" in all:\n",
        "  all = all.replace(\"\\t))\", \"100\\t))\\tSYM\")\n",
        "elif \"))\" in all:\n",
        "  all = all.replace(\"))\", \"100\\t))\\tSYM\")\n",
        "if \"NNP:?\" in all:\n",
        "  all = all.replace(\"NNP:?\", \"NNP\")"
      ],
      "metadata": {
        "id": "xlyVv8KsymxS"
      },
      "execution_count": 7,
      "outputs": []
    },
    {
      "cell_type": "code",
      "source": [
        "all = all[1:]"
      ],
      "metadata": {
        "id": "JWjvx47l2LGI"
      },
      "execution_count": 8,
      "outputs": []
    },
    {
      "cell_type": "code",
      "source": [
        "outputfile = open('output.txt', 'w')\n",
        "outputfile.writelines(all)\n",
        "outputfile.close()"
      ],
      "metadata": {
        "id": "CPFAB5hzzAWb"
      },
      "execution_count": 9,
      "outputs": []
    },
    {
      "cell_type": "markdown",
      "source": [
        "<h2>Dataset Preparation</h2>"
      ],
      "metadata": {
        "id": "fZChww-E0W2u"
      }
    },
    {
      "cell_type": "code",
      "source": [
        "from conllu import parse\n",
        "with open(\"output.txt\", mode=\"r\", encoding=\"utf-8-sig\") as data_file:\n",
        "    data = data_file.read()\n",
        "sentences = parse(data)"
      ],
      "metadata": {
        "id": "SXn-5xLnzMjh"
      },
      "execution_count": 11,
      "outputs": []
    },
    {
      "cell_type": "code",
      "source": [
        "print(type(sentences))\n",
        "print(sentences[1])"
      ],
      "metadata": {
        "colab": {
          "base_uri": "https://localhost:8080/"
        },
        "id": "f5MovO8C1V1V",
        "outputId": "c36a24ff-fd68-4efe-b752-cf7ed04cc977"
      },
      "execution_count": 12,
      "outputs": [
        {
          "output_type": "stream",
          "name": "stdout",
          "text": [
            "<class 'conllu.models.SentenceList'>\n",
            "TokenList<नेवता, देखते, मन, चटक, गइल, ।>\n"
          ]
        }
      ]
    },
    {
      "cell_type": "code",
      "source": [
        "sents=[]\n",
        "postags=[]\n",
        "for sentence in sentences:\n",
        "  sent = ['hi']\n",
        "  postag = ['-ID-']\n",
        "  for token in sentence:\n",
        "    sent.append(token['form'])\n",
        "    try:\n",
        "      postag.append(token['lemma'])\n",
        "    except:\n",
        "      postag.append(\"NA\")\n",
        "  sents.append(sent)\n",
        "  postags.append(postag)"
      ],
      "metadata": {
        "id": "1q-GsKEZ2i-Q"
      },
      "execution_count": 13,
      "outputs": []
    },
    {
      "cell_type": "code",
      "source": [
        "print(type(sents))\n",
        "print(sents[1])"
      ],
      "metadata": {
        "colab": {
          "base_uri": "https://localhost:8080/"
        },
        "id": "-QCZ4d7H3E0E",
        "outputId": "d71763fc-d600-47d6-9474-ac716e882e9c"
      },
      "execution_count": 14,
      "outputs": [
        {
          "output_type": "stream",
          "name": "stdout",
          "text": [
            "<class 'list'>\n",
            "['hi', 'नेवता', 'देखते', 'मन', 'चटक', 'गइल', '।']\n"
          ]
        }
      ]
    },
    {
      "cell_type": "code",
      "source": [
        "print(type(postags))\n",
        "print(postags[1])"
      ],
      "metadata": {
        "colab": {
          "base_uri": "https://localhost:8080/"
        },
        "id": "rIcfmNh14Rhi",
        "outputId": "302b1fde-e371-49f3-a6ad-28ca33151f64"
      },
      "execution_count": 15,
      "outputs": [
        {
          "output_type": "stream",
          "name": "stdout",
          "text": [
            "<class 'list'>\n",
            "['-ID-', 'NN', 'VM', 'NN', 'VM', 'VAUX', 'SYM']\n"
          ]
        }
      ]
    },
    {
      "cell_type": "markdown",
      "source": [
        "<h3> Get Tag Set</h3>"
      ],
      "metadata": {
        "id": "vFxe07-UuUnE"
      }
    },
    {
      "cell_type": "code",
      "source": [
        "tags = []\n",
        "for postag in postags:\n",
        "  for tag in postag:\n",
        "    tags.append(tag)\n",
        "\n",
        "tags = set(tags)\n",
        "tag2int = {}\n",
        "int2tag = {}\n",
        "\n",
        "for i, tag in enumerate(sorted(tags)):\n",
        "    tag2int[tag] = i+1\n",
        "    int2tag[i+1] = tag\n",
        "\n",
        "tag2int['-PAD-'] = 0\n",
        "int2tag[0] = '-PAD-'"
      ],
      "metadata": {
        "id": "eyr052144m4G"
      },
      "execution_count": 16,
      "outputs": []
    },
    {
      "cell_type": "code",
      "source": [
        "tag2int"
      ],
      "metadata": {
        "colab": {
          "base_uri": "https://localhost:8080/"
        },
        "id": "wvjRJqvduYKL",
        "outputId": "4a33628b-ee2c-4d6b-eb3d-f2a80096cd01"
      },
      "execution_count": 17,
      "outputs": [
        {
          "output_type": "execute_result",
          "data": {
            "text/plain": [
              "{'-': 1,\n",
              " '-ID-': 2,\n",
              " 'CC': 3,\n",
              " 'CCP': 4,\n",
              " 'CL': 5,\n",
              " 'DEM': 6,\n",
              " 'ECH': 7,\n",
              " 'INJ': 8,\n",
              " 'INTF': 9,\n",
              " 'JJ': 10,\n",
              " 'NA': 11,\n",
              " 'NEG': 12,\n",
              " 'NEGP': 13,\n",
              " 'NN': 14,\n",
              " 'NNP': 15,\n",
              " 'NP': 16,\n",
              " 'NST': 17,\n",
              " 'PRP': 18,\n",
              " 'PSP': 19,\n",
              " 'QC': 20,\n",
              " 'QF': 21,\n",
              " 'QO': 22,\n",
              " 'RB': 23,\n",
              " 'RDP': 24,\n",
              " 'RP': 25,\n",
              " 'SYM': 26,\n",
              " 'UNK': 27,\n",
              " 'V': 28,\n",
              " 'VAUX': 29,\n",
              " 'VGF': 30,\n",
              " 'VM': 31,\n",
              " 'WQ': 32,\n",
              " '-PAD-': 0}"
            ]
          },
          "metadata": {},
          "execution_count": 17
        }
      ]
    },
    {
      "cell_type": "markdown",
      "source": [
        "<h3>Convert to Hugging Face DatasetDict</h3>"
      ],
      "metadata": {
        "id": "lMGeJ0t33TyE"
      }
    },
    {
      "cell_type": "code",
      "source": [
        "from datasets import Dataset\n",
        "import pandas as pd\n",
        "\n",
        "data_list = []\n",
        "for i in range(0, len(sents)-1):\n",
        "  temp = {'form':sents[i], 'postag':[tag2int[tag] for tag in postags[i]]}\n",
        "  data_list.append(temp)\n",
        "dataset = Dataset.from_pandas(pd.DataFrame(data=data_list))"
      ],
      "metadata": {
        "id": "hzAeVnuMudbt"
      },
      "execution_count": 52,
      "outputs": []
    },
    {
      "cell_type": "code",
      "source": [
        "from datasets import DatasetDict\n",
        "train_testvalid = dataset.train_test_split(test_size=0.2)\n",
        "# Split the 10% test + valid in half test, half valid\n",
        "test_valid = train_testvalid['test'].train_test_split(test_size=0.5)\n",
        "# gather everyone if you want to have a single DatasetDict\n",
        "dataset = DatasetDict({\n",
        "    'train': train_testvalid['train'],\n",
        "    'test': test_valid['test'],\n",
        "    'valid': test_valid['train']})"
      ],
      "metadata": {
        "id": "YDqvVzqH3l2l"
      },
      "execution_count": 53,
      "outputs": []
    },
    {
      "cell_type": "code",
      "source": [
        "dataset"
      ],
      "metadata": {
        "colab": {
          "base_uri": "https://localhost:8080/"
        },
        "id": "YlP5xseF3t5h",
        "outputId": "2e63c6db-9513-4a90-8721-a5a94867a9e7"
      },
      "execution_count": 54,
      "outputs": [
        {
          "output_type": "execute_result",
          "data": {
            "text/plain": [
              "DatasetDict({\n",
              "    train: Dataset({\n",
              "        features: ['form', 'postag'],\n",
              "        num_rows: 3436\n",
              "    })\n",
              "    test: Dataset({\n",
              "        features: ['form', 'postag'],\n",
              "        num_rows: 430\n",
              "    })\n",
              "    valid: Dataset({\n",
              "        features: ['form', 'postag'],\n",
              "        num_rows: 429\n",
              "    })\n",
              "})"
            ]
          },
          "metadata": {},
          "execution_count": 54
        }
      ]
    },
    {
      "cell_type": "markdown",
      "source": [
        "<h2>Tokenization</h2>"
      ],
      "metadata": {
        "id": "pHaDKtq_4U7-"
      }
    },
    {
      "cell_type": "code",
      "source": [
        "from transformers import AutoTokenizer\n",
        "\n",
        "model_checkpoint = \"ai4bharat/IndicBERTv2-SS\"\n",
        "tokenizer = AutoTokenizer.from_pretrained(model_checkpoint)\n",
        "\n",
        "tokenized_inputs = tokenizer(sents, truncation=True, is_split_into_words=True)"
      ],
      "metadata": {
        "colab": {
          "base_uri": "https://localhost:8080/"
        },
        "id": "cdmhbWSi3-oC",
        "outputId": "2fedeeb9-e0b2-49f3-b049-621f267c2ae2"
      },
      "execution_count": 86,
      "outputs": [
        {
          "output_type": "stream",
          "name": "stderr",
          "text": [
            "Asking to truncate to max_length but no maximum length is provided and the model has no predefined maximum length. Default to no truncation.\n"
          ]
        }
      ]
    },
    {
      "cell_type": "code",
      "source": [
        "def align_labels_with_tokens(labels, word_ids):\n",
        "    new_labels = []\n",
        "    current_word = None\n",
        "    for word_id in word_ids:\n",
        "        if word_id != current_word:\n",
        "            # Start of a new word!\n",
        "            current_word = word_id\n",
        "            label = -100 if word_id is None else labels[word_id]\n",
        "            new_labels.append(label)\n",
        "        elif word_id is None:\n",
        "            # Special token\n",
        "            new_labels.append(-100)\n",
        "        else:\n",
        "            # Same word as previous token\n",
        "            label = labels[word_id]\n",
        "            new_labels.append(label)\n",
        "\n",
        "    return new_labels"
      ],
      "metadata": {
        "id": "7y5O8eav4UXI"
      },
      "execution_count": 87,
      "outputs": []
    },
    {
      "cell_type": "code",
      "source": [
        "def tokenize_and_align_labels(examples):\n",
        "    tokenized_inputs = tokenizer(\n",
        "        examples['form'], truncation=True, is_split_into_words=True\n",
        "    )\n",
        "    all_labels = examples['postag']\n",
        "    new_labels = []\n",
        "    for i, labels in enumerate(all_labels):\n",
        "        word_ids = tokenized_inputs.word_ids(i)\n",
        "        new_labels.append(align_labels_with_tokens(labels, word_ids))\n",
        "\n",
        "    tokenized_inputs[\"labels\"] = new_labels\n",
        "    return tokenized_inputs"
      ],
      "metadata": {
        "id": "1ejL8pHg5RJX"
      },
      "execution_count": 88,
      "outputs": []
    },
    {
      "cell_type": "code",
      "source": [
        "tokenized_datasets = dataset.map(\n",
        "    tokenize_and_align_labels,\n",
        "    batched=True,\n",
        "    remove_columns=dataset['train'].column_names,\n",
        ")"
      ],
      "metadata": {
        "colab": {
          "base_uri": "https://localhost:8080/",
          "height": 113,
          "referenced_widgets": [
            "ba6e8d4aa33e44319b8a3a5010f4e360",
            "e17c4828335c44db9655172354df0356",
            "dc9a70662cd64727abbf74bc6e92fe2e",
            "33bebf75852940859bba12f33c8968bb",
            "a8e2560a4acc47b88646eb85d34a7ff3",
            "ca97605501874900888af8336a3e5391",
            "fe64712fb2fa413ebe7421dc8c20e94f",
            "e9222ad4224843679a1dd185f25c6356",
            "ddfb51f1fac74c7b8ac52175a191b669",
            "afc9590e95e841f9afa30988b6468f24",
            "f1d623f6800b4736811fe2615dd0520e",
            "e6b531120e184b448a9216d24c180ccc",
            "d4835de0862946a282a75df0dfad8b32",
            "19772ee15e9d4c00aa79427a0dd6dc86",
            "64cf700d291d4277a8dc7e0ee04a5989",
            "19b76b45908c4ff2b5884c6fbd5a364c",
            "321c111536dd46b58c8bd1d2c7e55639",
            "df4826aa018245768999dd40e8c53586",
            "0c55e63969524610ac19c7cf39001df0",
            "3e56574faf684be7a50cfc62135d250e",
            "3b073b31485d463b9a13f36bfa46629f",
            "ea46bc670a2b4a89b3e80227f2abdb1f",
            "3a80c2f594b3416590203d38f1f0d6ec",
            "e1ee7620b5b74dfe9efa2309491a177d",
            "8b5bd173c5454664aa8f55df55210c7e",
            "632ecbf44d8a4313a6bef550e0e22129",
            "0024a580285048e4b71534168ca92339",
            "dcc398e440054a1ca1149233a5efeadf",
            "8736679941e548e2ace1bfe2d062512b",
            "f6f29dc0b4da41c68024bee9d6e33e10",
            "5f16078eb1564c6bad4b540931753c4b",
            "c7db60ee83a841fea417aab105012e1d",
            "860443b0cc3d415c918d533f476e332b"
          ]
        },
        "id": "UEecl78O5TM8",
        "outputId": "9ed5cdd3-f995-42d3-f4bd-a28dfc351c9f"
      },
      "execution_count": 89,
      "outputs": [
        {
          "output_type": "display_data",
          "data": {
            "text/plain": [
              "Map:   0%|          | 0/3436 [00:00<?, ? examples/s]"
            ],
            "application/vnd.jupyter.widget-view+json": {
              "version_major": 2,
              "version_minor": 0,
              "model_id": "ba6e8d4aa33e44319b8a3a5010f4e360"
            }
          },
          "metadata": {}
        },
        {
          "output_type": "display_data",
          "data": {
            "text/plain": [
              "Map:   0%|          | 0/430 [00:00<?, ? examples/s]"
            ],
            "application/vnd.jupyter.widget-view+json": {
              "version_major": 2,
              "version_minor": 0,
              "model_id": "e6b531120e184b448a9216d24c180ccc"
            }
          },
          "metadata": {}
        },
        {
          "output_type": "display_data",
          "data": {
            "text/plain": [
              "Map:   0%|          | 0/429 [00:00<?, ? examples/s]"
            ],
            "application/vnd.jupyter.widget-view+json": {
              "version_major": 2,
              "version_minor": 0,
              "model_id": "3a80c2f594b3416590203d38f1f0d6ec"
            }
          },
          "metadata": {}
        }
      ]
    },
    {
      "cell_type": "markdown",
      "source": [
        "<h2>Data Collation</h2>\n"
      ],
      "metadata": {
        "id": "3WTKKWxJGHty"
      }
    },
    {
      "cell_type": "code",
      "source": [
        "from transformers import DataCollatorForTokenClassification\n",
        "\n",
        "data_collator = DataCollatorForTokenClassification(\n",
        "    tokenizer=tokenizer\n",
        ")"
      ],
      "metadata": {
        "id": "cl3pzSQt5Z6P"
      },
      "execution_count": 90,
      "outputs": []
    },
    {
      "cell_type": "code",
      "source": [
        "from torch.utils.data import DataLoader\n",
        "\n",
        "train_dataloader = DataLoader(\n",
        "    tokenized_datasets[\"train\"],\n",
        "    shuffle=True,\n",
        "    collate_fn=data_collator,\n",
        "    batch_size=8,\n",
        ")\n",
        "eval_dataloader = DataLoader(\n",
        "    tokenized_datasets[\"valid\"], collate_fn=data_collator, batch_size=8\n",
        ")"
      ],
      "metadata": {
        "id": "haB1cfxYIko_"
      },
      "execution_count": 91,
      "outputs": []
    },
    {
      "cell_type": "markdown",
      "source": [
        "<h1>Model Definition</h1>"
      ],
      "metadata": {
        "id": "lyH3XOz3fK2z"
      }
    },
    {
      "cell_type": "markdown",
      "source": [
        "<h2>Model</h2>"
      ],
      "metadata": {
        "id": "RUd3SCMifdoY"
      }
    },
    {
      "cell_type": "code",
      "source": [
        "from transformers import AutoModelForTokenClassification\n",
        "\n",
        "model_checkpoint = \"ai4bharat/IndicBERTv2-SS\"\n",
        "model = AutoModelForTokenClassification.from_pretrained(\n",
        "    model_checkpoint,\n",
        "    id2label=int2tag,\n",
        "    label2id=tag2int,\n",
        ")"
      ],
      "metadata": {
        "colab": {
          "base_uri": "https://localhost:8080/"
        },
        "id": "pcrBElc8JEP0",
        "outputId": "4feec0bc-33d2-47f0-9dc7-6645c021c9a9"
      },
      "execution_count": 92,
      "outputs": [
        {
          "output_type": "stream",
          "name": "stderr",
          "text": [
            "Some weights of BertForTokenClassification were not initialized from the model checkpoint at ai4bharat/IndicBERTv2-SS and are newly initialized: ['classifier.bias', 'classifier.weight']\n",
            "You should probably TRAIN this model on a down-stream task to be able to use it for predictions and inference.\n"
          ]
        }
      ]
    },
    {
      "cell_type": "markdown",
      "source": [
        "<h2>Optimiser and Scheduler</h2>"
      ],
      "metadata": {
        "id": "RYIgKs2BfgZi"
      }
    },
    {
      "cell_type": "code",
      "source": [
        "from torch.optim import AdamW\n",
        "\n",
        "optimizer = AdamW(model.parameters(), lr=2e-5)"
      ],
      "metadata": {
        "id": "mui77XQSJbi7"
      },
      "execution_count": 93,
      "outputs": []
    },
    {
      "cell_type": "code",
      "source": [
        "!pip install -q accelerate"
      ],
      "metadata": {
        "id": "wcCvRMX5J8An"
      },
      "execution_count": 94,
      "outputs": []
    },
    {
      "cell_type": "code",
      "source": [
        "from accelerate import Accelerator\n",
        "\n",
        "accelerator = Accelerator()\n",
        "model, optimizer, train_dataloader, eval_dataloader = accelerator.prepare(\n",
        "    model, optimizer, train_dataloader, eval_dataloader\n",
        ")"
      ],
      "metadata": {
        "id": "P9E0dIELJ2ea"
      },
      "execution_count": 95,
      "outputs": []
    },
    {
      "cell_type": "code",
      "source": [
        "from transformers import get_scheduler\n",
        "\n",
        "num_train_epochs = 3\n",
        "num_update_steps_per_epoch = len(train_dataloader)\n",
        "num_training_steps = num_train_epochs * num_update_steps_per_epoch\n",
        "\n",
        "lr_scheduler = get_scheduler(\n",
        "    \"linear\",\n",
        "    optimizer=optimizer,\n",
        "    num_warmup_steps=0,\n",
        "    num_training_steps=num_training_steps,\n",
        ")"
      ],
      "metadata": {
        "id": "3zeQQ4QgJ6ZH"
      },
      "execution_count": 96,
      "outputs": []
    },
    {
      "cell_type": "markdown",
      "source": [
        "<h2>Preprocessor and Evaluator</h2>"
      ],
      "metadata": {
        "id": "aAdTzzQxfvI2"
      }
    },
    {
      "cell_type": "code",
      "source": [
        "def postprocess(predictions, labels):\n",
        "    predictions = predictions.detach().cpu().clone().numpy()\n",
        "    labels = labels.detach().cpu().clone().numpy()\n",
        "\n",
        "    # Remove ignored index (special tokens) and convert to labels\n",
        "    true_labels = [[int2tag[l] for l in label if l != -100] for label in labels]\n",
        "    true_predictions = [\n",
        "        [int2tag[p] for (p, l) in zip(prediction, label) if l != -100]\n",
        "        for prediction, label in zip(predictions, labels)\n",
        "    ]\n",
        "    return true_labels, true_predictions"
      ],
      "metadata": {
        "id": "HB50LqvIKJQ9"
      },
      "execution_count": 97,
      "outputs": []
    },
    {
      "cell_type": "code",
      "source": [
        "def create_confusion_matrix(predicted, actual, tagset):\n",
        "  n = len(tagset)\n",
        "\n",
        "  int2tag_temp = {}\n",
        "  tag2int_temp = {}\n",
        "  for i, j in enumerate(tagset):\n",
        "    int2tag_temp[i] = j\n",
        "    tag2int_temp[j] = i\n",
        "\n",
        "  confusion_matrix = [[0 for i in range(n)] for j in range(n)]\n",
        "\n",
        "  m = len(predicted)\n",
        "  for i in range(m):\n",
        "    l = len(predicted[i])\n",
        "    for j in range(l):\n",
        "      confusion_matrix[tag2int_temp[predicted[i][j]]][tag2int_temp[actual[i][j]]] += 1\n",
        "\n",
        "  return confusion_matrix"
      ],
      "metadata": {
        "id": "DMHGKAPB6W5X"
      },
      "execution_count": 98,
      "outputs": []
    },
    {
      "cell_type": "code",
      "source": [
        "def print_confusion_matrix(true_predictions, true_labels, tagset):\n",
        "  confusion_matrix = create_confusion_matrix(true_predictions, true_labels, tagset)\n",
        "  n = len(confusion_matrix)\n",
        "  print(confusion_matrix)\n",
        "\n"
      ],
      "metadata": {
        "id": "6ufL9uBQOqfn"
      },
      "execution_count": 99,
      "outputs": []
    },
    {
      "cell_type": "code",
      "source": [
        "#Note: We calculate micro-average scores.\n",
        "def evaluator(predicted, actual, tagset):\n",
        "  #confusion matrix is a 2-D square matrix\n",
        "  confusion_matrix = create_confusion_matrix(predicted, actual, tagset)\n",
        "  TN, TP, FN, FP = 0, 0, 0, 0\n",
        "  n = len(confusion_matrix)\n",
        "  sum = 0\n",
        "  for i in range(n):\n",
        "    TP = TP + confusion_matrix[i][i]\n",
        "\n",
        "    for j in range(n):\n",
        "      sum+= confusion_matrix[i][j]\n",
        "      if j!=i:\n",
        "        FP = FP + confusion_matrix[i][j]\n",
        "        FN = FN + confusion_matrix[j][i]\n",
        "\n",
        "  TN = sum - TP - FP - FN\n",
        "\n",
        "  accuracy = (TP+TN)/sum\n",
        "  precision = TP/(TP+FP)\n",
        "  recall = TP/(TP+FN)\n",
        "  f1score = (2*precision*recall)/(precision+recall)\n",
        "\n",
        "  results = {'accuracy': accuracy,\n",
        "             'precision': precision,\n",
        "             'recall': recall,\n",
        "             'f1score': f1score}\n",
        "  return results\n"
      ],
      "metadata": {
        "id": "4u0CUGeqsxDS"
      },
      "execution_count": 100,
      "outputs": []
    },
    {
      "cell_type": "markdown",
      "source": [
        "<h1>Training and Evaluation</h1>"
      ],
      "metadata": {
        "id": "C14PfCOqf5S3"
      }
    },
    {
      "cell_type": "code",
      "source": [
        "from tqdm.auto import tqdm\n",
        "import torch\n",
        "\n",
        "progress_bar = tqdm(range(num_training_steps))\n",
        "\n",
        "for epoch in range(num_train_epochs):\n",
        "    # Training\n",
        "    model.train()\n",
        "    for batch in train_dataloader:\n",
        "        outputs = model(**batch)\n",
        "        loss = outputs.loss\n",
        "        accelerator.backward(loss)\n",
        "\n",
        "        optimizer.step()\n",
        "        lr_scheduler.step()\n",
        "        optimizer.zero_grad()\n",
        "        progress_bar.update(1)\n",
        "\n",
        "    # Evaluation\n",
        "    true_predictions = []\n",
        "    true_labels = []\n",
        "    model.eval()\n",
        "    for batch in eval_dataloader:\n",
        "        with torch.no_grad():\n",
        "            outputs = model(**batch)\n",
        "\n",
        "        predictions = outputs.logits.argmax(dim=-1)\n",
        "        labels = batch[\"labels\"]\n",
        "\n",
        "        # Necessary to pad predictions and labels for being gathered\n",
        "        predictions = accelerator.pad_across_processes(predictions, dim=1, pad_index=-100)\n",
        "        labels = accelerator.pad_across_processes(labels, dim=1, pad_index=-100)\n",
        "\n",
        "        predictions_gathered = accelerator.gather(predictions)\n",
        "        labels_gathered = accelerator.gather(labels)\n",
        "\n",
        "        true_prediction, true_label = postprocess(predictions_gathered, labels_gathered)\n",
        "\n",
        "        for x in true_prediction:\n",
        "          true_predictions.append(x)\n",
        "        for y in true_label:\n",
        "          true_labels.append(y)\n",
        "\n",
        "    tagset = [tag for tag in tag2int]\n",
        "\n",
        "    results = evaluator(true_predictions, true_labels, tagset)\n",
        "    print(\n",
        "        f\"epoch {epoch}:\",\n",
        "        {\n",
        "            key: results[f\"{key}\"]\n",
        "            for key in [\"precision\", \"recall\", \"f1score\", \"accuracy\"]\n",
        "        },\n",
        "    )\n"
      ],
      "metadata": {
        "colab": {
          "base_uri": "https://localhost:8080/",
          "height": 142,
          "referenced_widgets": [
            "c3ee3db74a084e71bd6215083bfa9300",
            "a683992535954143b07c4de7f348f5db",
            "b5a8c4cfe36e4f5db2d18465b0e18117",
            "6d54865548844d329f2c91db46ed0feb",
            "7fd3c8228a894c289ce46a872de2795f",
            "2f173a88353642429425496a49d7465c",
            "b27b38da78e740cfa60d697efe79d6c4",
            "d6977ed3ad914f24b59513f0a7bea5a0",
            "4cbcf79dd33d4017aa78425ca2f07018",
            "da9abcd4f8824d3bb485f7e06078c541",
            "56a9a359fe3b4ae897c1e2b0991cdafb"
          ]
        },
        "id": "RLcHewWhKg3a",
        "outputId": "289880da-6acc-4ec1-c4c0-321d4827bfff"
      },
      "execution_count": 101,
      "outputs": [
        {
          "output_type": "display_data",
          "data": {
            "text/plain": [
              "  0%|          | 0/1290 [00:00<?, ?it/s]"
            ],
            "application/vnd.jupyter.widget-view+json": {
              "version_major": 2,
              "version_minor": 0,
              "model_id": "c3ee3db74a084e71bd6215083bfa9300"
            }
          },
          "metadata": {}
        },
        {
          "output_type": "stream",
          "name": "stderr",
          "text": [
            "You're using a PreTrainedTokenizerFast tokenizer. Please note that with a fast tokenizer, using the `__call__` method is faster than using a method to encode the text followed by a call to the `pad` method to get a padded encoding.\n"
          ]
        },
        {
          "output_type": "stream",
          "name": "stdout",
          "text": [
            "epoch 0: {'precision': 0.8080452545568825, 'recall': 0.8080452545568825, 'f1score': 0.8080452545568825, 'accuracy': 0.616090509113765}\n",
            "epoch 1: {'precision': 0.8250157133878064, 'recall': 0.8250157133878064, 'f1score': 0.8250157133878064, 'accuracy': 0.6500314267756129}\n",
            "epoch 2: {'precision': 0.8274041483343809, 'recall': 0.8274041483343809, 'f1score': 0.8274041483343809, 'accuracy': 0.6548082966687618}\n"
          ]
        }
      ]
    },
    {
      "cell_type": "markdown",
      "source": [
        "<h1>Using Language Embeddings</h1>"
      ],
      "metadata": {
        "id": "ufVzybH7M19U"
      }
    },
    {
      "cell_type": "markdown",
      "source": [
        "<h2>For One Word</h2>\n",
        "We get a word embedding for one word, and concatenate language vector to it."
      ],
      "metadata": {
        "id": "2RvTdfCUPalS"
      }
    },
    {
      "cell_type": "markdown",
      "source": [
        "<h3>Getting Word Embedding</h3>"
      ],
      "metadata": {
        "id": "mrsa5dZrQb2U"
      }
    },
    {
      "cell_type": "code",
      "source": [
        "import torch\n",
        "from transformers import AutoModel\n",
        "from transformers import AutoTokenizer\n",
        "\n",
        "tokenizer_embed = AutoTokenizer.from_pretrained(\"ai4bharat/IndicBERTv2-SS\")\n",
        "model_embed = AutoModel.from_pretrained(\"ai4bharat/IndicBERTv2-SS\")\n",
        "\n",
        "# get the embedding vector for the word \"example\"\n",
        "example_token_id = tokenizer_embed.convert_tokens_to_ids(['मन'])[0]\n",
        "example_embedding = model_embed.embeddings.word_embeddings(torch.tensor([example_token_id]))"
      ],
      "metadata": {
        "colab": {
          "base_uri": "https://localhost:8080/",
          "height": 53
        },
        "id": "GQJPpOQfLjNL",
        "outputId": "90b93033-1b78-4b63-8396-5bd7e9140eab"
      },
      "execution_count": 102,
      "outputs": [
        {
          "output_type": "stream",
          "name": "stderr",
          "text": [
            "Some weights of BertModel were not initialized from the model checkpoint at ai4bharat/IndicBERTv2-SS and are newly initialized: ['bert.pooler.dense.bias', 'bert.pooler.dense.weight']\n",
            "You should probably TRAIN this model on a down-stream task to be able to use it for predictions and inference.\n"
          ]
        }
      ]
    },
    {
      "cell_type": "code",
      "source": [
        "print(type(example_embedding))\n",
        "print(example_embedding.shape)"
      ],
      "metadata": {
        "colab": {
          "base_uri": "https://localhost:8080/"
        },
        "id": "b0cE-9MlOs2c",
        "outputId": "7e08eedd-1fe6-4f17-b2bc-a140e2a1a8df"
      },
      "execution_count": 103,
      "outputs": [
        {
          "output_type": "stream",
          "name": "stdout",
          "text": [
            "<class 'torch.Tensor'>\n",
            "torch.Size([1, 768])\n"
          ]
        }
      ]
    },
    {
      "cell_type": "code",
      "source": [
        "example_embedding_np = example_embedding.detach().numpy()"
      ],
      "metadata": {
        "id": "M-YPskXDPPvS"
      },
      "execution_count": 104,
      "outputs": []
    },
    {
      "cell_type": "code",
      "source": [
        "print(type(example_embedding_np))\n",
        "print(example_embedding_np.shape)"
      ],
      "metadata": {
        "colab": {
          "base_uri": "https://localhost:8080/"
        },
        "id": "wDXnHsDMQIf3",
        "outputId": "3c4a29d0-b4da-46f4-f15a-9e8f1a42f791"
      },
      "execution_count": 105,
      "outputs": [
        {
          "output_type": "stream",
          "name": "stdout",
          "text": [
            "<class 'numpy.ndarray'>\n",
            "(1, 768)\n"
          ]
        }
      ]
    },
    {
      "cell_type": "markdown",
      "source": [
        "<h3>Concatenate langvec</h3>"
      ],
      "metadata": {
        "id": "E-wj8gGsQi4a"
      }
    },
    {
      "cell_type": "code",
      "source": [
        "!pip3 install -q lang2vec"
      ],
      "metadata": {
        "id": "0mwHNCg1QPHB"
      },
      "execution_count": 106,
      "outputs": []
    },
    {
      "cell_type": "code",
      "source": [
        "import lang2vec.lang2vec as l2v\n",
        "features = l2v.get_features(\"hin\", \"geo\")"
      ],
      "metadata": {
        "id": "xOm9fZd5Q_M_"
      },
      "execution_count": 107,
      "outputs": []
    },
    {
      "cell_type": "code",
      "source": [
        "print(type(features['hin']))\n",
        "print(features['hin'][0:2])\n",
        "print(len(features['hin']))"
      ],
      "metadata": {
        "colab": {
          "base_uri": "https://localhost:8080/"
        },
        "id": "HhWFud76RYon",
        "outputId": "ed1ae3ef-3dfe-43c6-a2ee-8e4b1313a5ae"
      },
      "execution_count": 108,
      "outputs": [
        {
          "output_type": "stream",
          "name": "stdout",
          "text": [
            "<class 'list'>\n",
            "[0.6082000136375427, 0.690500020980835]\n",
            "299\n"
          ]
        }
      ]
    },
    {
      "cell_type": "code",
      "source": [
        "import numpy as np\n",
        "concatenated_embedding = np.concatenate((example_embedding_np[0], features['hin']))"
      ],
      "metadata": {
        "id": "x7tiKW-ZSVYi"
      },
      "execution_count": 109,
      "outputs": []
    },
    {
      "cell_type": "code",
      "source": [
        "concatenated_embedding.shape"
      ],
      "metadata": {
        "colab": {
          "base_uri": "https://localhost:8080/"
        },
        "id": "VGaMzaE2T9u7",
        "outputId": "a7854f89-5dfa-4e77-901e-726c28615507"
      },
      "execution_count": 110,
      "outputs": [
        {
          "output_type": "execute_result",
          "data": {
            "text/plain": [
              "(1067,)"
            ]
          },
          "metadata": {},
          "execution_count": 110
        }
      ]
    },
    {
      "cell_type": "code",
      "source": [
        "concatenated_embedding_tensor = torch.from_numpy(concatenated_embedding)"
      ],
      "metadata": {
        "id": "Kj9iVdSNUU0u"
      },
      "execution_count": 111,
      "outputs": []
    },
    {
      "cell_type": "markdown",
      "source": [
        "<h3>Into one Function</h3>"
      ],
      "metadata": {
        "id": "_92QIgNQWDGR"
      }
    },
    {
      "cell_type": "code",
      "source": [
        "def word_to_concatenated_embedding(word, langvec):\n",
        "  temp = []\n",
        "  temp.append(word)\n",
        "  example_token_id = tokenizer_embed.convert_tokens_to_ids(temp)[0]\n",
        "  example_embedding = model_embed.embeddings.word_embeddings(torch.tensor([example_token_id]))\n",
        "  example_embedding_np = example_embedding.detach().numpy()\n",
        "  concatenated_embedding = np.concatenate((example_embedding_np[0], langvec))\n",
        "  return concatenated_embedding"
      ],
      "metadata": {
        "id": "lp_pVRBlWCsE"
      },
      "execution_count": 112,
      "outputs": []
    },
    {
      "cell_type": "markdown",
      "source": [
        "<h2>For the entire Dataset</h2>"
      ],
      "metadata": {
        "id": "zGkSThYGXJHD"
      }
    },
    {
      "cell_type": "code",
      "source": [
        "langvec = features['hin']\n",
        "sents_embedding = []\n",
        "for sent in sents:\n",
        "  sent_embedding = [concatenated_embedding]\n",
        "  for word in sent:\n",
        "    embedding = word_to_concatenated_embedding(word, langvec)\n",
        "    sent_embedding.append(np.array(embedding))\n",
        "  sents_embedding.append(np.array(sent_embedding))\n",
        "\n",
        "sents_embedding = np.array(sents_embedding)"
      ],
      "metadata": {
        "colab": {
          "base_uri": "https://localhost:8080/"
        },
        "id": "GN1xMcDbV3pP",
        "outputId": "fa218219-4e31-45eb-98ff-00649ee91625"
      },
      "execution_count": 113,
      "outputs": [
        {
          "output_type": "stream",
          "name": "stderr",
          "text": [
            "<ipython-input-113-f23054d6d521>:10: VisibleDeprecationWarning: Creating an ndarray from ragged nested sequences (which is a list-or-tuple of lists-or-tuples-or ndarrays with different lengths or shapes) is deprecated. If you meant to do this, you must specify 'dtype=object' when creating the ndarray.\n",
            "  sents_embedding = np.array(sents_embedding)\n"
          ]
        }
      ]
    },
    {
      "cell_type": "code",
      "source": [
        "def sentences_to_embedding(sentences, language_code):\n",
        "  features = l2v.get_features(language_code, \"geo\")\n",
        "  langvec = features[language_code]\n",
        "\n",
        "  sents_embedding = []\n",
        "  for sent in sentences:\n",
        "    sent_embedding = [concatenated_embedding]\n",
        "    for word in sent:\n",
        "      embedding = word_to_concatenated_embedding(word, langvec)\n",
        "      sent_embedding.append(np.array(embedding))\n",
        "    sents_embedding.append(np.array(sent_embedding))\n",
        "\n",
        "  sents_embedding = np.array(sents_embedding)\n",
        "\n",
        "  return sents_embedding"
      ],
      "metadata": {
        "id": "P8KrErM7bfaS"
      },
      "execution_count": 114,
      "outputs": []
    },
    {
      "cell_type": "code",
      "source": [
        "print(type(sents_embedding))\n",
        "print(sents_embedding.shape)"
      ],
      "metadata": {
        "colab": {
          "base_uri": "https://localhost:8080/"
        },
        "id": "tEWsvCcIeU40",
        "outputId": "0e2c483f-e42f-403f-9b60-9a1be4c5a854"
      },
      "execution_count": 115,
      "outputs": [
        {
          "output_type": "stream",
          "name": "stdout",
          "text": [
            "<class 'numpy.ndarray'>\n",
            "(4296,)\n"
          ]
        }
      ]
    },
    {
      "cell_type": "code",
      "source": [
        "print(type(sents_embedding[0]))\n",
        "print(sents_embedding[0].shape)"
      ],
      "metadata": {
        "colab": {
          "base_uri": "https://localhost:8080/"
        },
        "id": "DZilkmWtegWl",
        "outputId": "f8545124-c33c-4589-e6a1-b015d3345564"
      },
      "execution_count": 116,
      "outputs": [
        {
          "output_type": "stream",
          "name": "stdout",
          "text": [
            "<class 'numpy.ndarray'>\n",
            "(6, 1067)\n"
          ]
        }
      ]
    },
    {
      "cell_type": "code",
      "source": [],
      "metadata": {
        "id": "F7isy5AUe6FT"
      },
      "execution_count": 116,
      "outputs": []
    }
  ]
}